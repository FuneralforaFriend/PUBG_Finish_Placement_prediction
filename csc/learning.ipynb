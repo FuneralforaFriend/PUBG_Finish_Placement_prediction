{
 "cells": [
  {
   "cell_type": "code",
   "execution_count": 1,
   "id": "f1ba15a9",
   "metadata": {},
   "outputs": [],
   "source": [
    "import pandas as pd\n",
    "import seaborn as sns\n",
    "import matplotlib.pyplot as plt\n",
    "import numpy as np\n",
    "from patsy import dmatrices\n",
    "import statsmodels.api as sm;\n",
    "from statsmodels.stats.outliers_influence import variance_inflation_factor\n",
    "%matplotlib inline"
   ]
  },
  {
   "cell_type": "code",
   "execution_count": 2,
   "id": "59e365fb",
   "metadata": {
    "scrolled": true
   },
   "outputs": [],
   "source": [
    "df = pd.read_csv('train.csv')"
   ]
  },
  {
   "cell_type": "code",
   "execution_count": 3,
   "id": "e44d60ba",
   "metadata": {
    "scrolled": true
   },
   "outputs": [
    {
     "data": {
      "text/html": [
       "<div>\n",
       "<style scoped>\n",
       "    .dataframe tbody tr th:only-of-type {\n",
       "        vertical-align: middle;\n",
       "    }\n",
       "\n",
       "    .dataframe tbody tr th {\n",
       "        vertical-align: top;\n",
       "    }\n",
       "\n",
       "    .dataframe thead th {\n",
       "        text-align: right;\n",
       "    }\n",
       "</style>\n",
       "<table border=\"1\" class=\"dataframe\">\n",
       "  <thead>\n",
       "    <tr style=\"text-align: right;\">\n",
       "      <th></th>\n",
       "      <th>Id</th>\n",
       "      <th>groupId</th>\n",
       "      <th>matchId</th>\n",
       "      <th>assists</th>\n",
       "      <th>boosts</th>\n",
       "      <th>damageDealt</th>\n",
       "      <th>DBNOs</th>\n",
       "      <th>headshotKills</th>\n",
       "      <th>heals</th>\n",
       "      <th>killPlace</th>\n",
       "      <th>...</th>\n",
       "      <th>revives</th>\n",
       "      <th>rideDistance</th>\n",
       "      <th>roadKills</th>\n",
       "      <th>swimDistance</th>\n",
       "      <th>teamKills</th>\n",
       "      <th>vehicleDestroys</th>\n",
       "      <th>walkDistance</th>\n",
       "      <th>weaponsAcquired</th>\n",
       "      <th>winPoints</th>\n",
       "      <th>winPlacePerc</th>\n",
       "    </tr>\n",
       "  </thead>\n",
       "  <tbody>\n",
       "    <tr>\n",
       "      <th>0</th>\n",
       "      <td>7f96b2f878858a</td>\n",
       "      <td>4d4b580de459be</td>\n",
       "      <td>a10357fd1a4a91</td>\n",
       "      <td>0</td>\n",
       "      <td>0</td>\n",
       "      <td>0.000</td>\n",
       "      <td>0</td>\n",
       "      <td>0</td>\n",
       "      <td>0</td>\n",
       "      <td>60</td>\n",
       "      <td>...</td>\n",
       "      <td>0</td>\n",
       "      <td>0.0000</td>\n",
       "      <td>0</td>\n",
       "      <td>0.00</td>\n",
       "      <td>0</td>\n",
       "      <td>0</td>\n",
       "      <td>244.80</td>\n",
       "      <td>1</td>\n",
       "      <td>1466</td>\n",
       "      <td>0.4444</td>\n",
       "    </tr>\n",
       "    <tr>\n",
       "      <th>1</th>\n",
       "      <td>eef90569b9d03c</td>\n",
       "      <td>684d5656442f9e</td>\n",
       "      <td>aeb375fc57110c</td>\n",
       "      <td>0</td>\n",
       "      <td>0</td>\n",
       "      <td>91.470</td>\n",
       "      <td>0</td>\n",
       "      <td>0</td>\n",
       "      <td>0</td>\n",
       "      <td>57</td>\n",
       "      <td>...</td>\n",
       "      <td>0</td>\n",
       "      <td>0.0045</td>\n",
       "      <td>0</td>\n",
       "      <td>11.04</td>\n",
       "      <td>0</td>\n",
       "      <td>0</td>\n",
       "      <td>1434.00</td>\n",
       "      <td>5</td>\n",
       "      <td>0</td>\n",
       "      <td>0.6400</td>\n",
       "    </tr>\n",
       "    <tr>\n",
       "      <th>2</th>\n",
       "      <td>1eaf90ac73de72</td>\n",
       "      <td>6a4a42c3245a74</td>\n",
       "      <td>110163d8bb94ae</td>\n",
       "      <td>1</td>\n",
       "      <td>0</td>\n",
       "      <td>68.000</td>\n",
       "      <td>0</td>\n",
       "      <td>0</td>\n",
       "      <td>0</td>\n",
       "      <td>47</td>\n",
       "      <td>...</td>\n",
       "      <td>0</td>\n",
       "      <td>0.0000</td>\n",
       "      <td>0</td>\n",
       "      <td>0.00</td>\n",
       "      <td>0</td>\n",
       "      <td>0</td>\n",
       "      <td>161.80</td>\n",
       "      <td>2</td>\n",
       "      <td>0</td>\n",
       "      <td>0.7755</td>\n",
       "    </tr>\n",
       "    <tr>\n",
       "      <th>3</th>\n",
       "      <td>4616d365dd2853</td>\n",
       "      <td>a930a9c79cd721</td>\n",
       "      <td>f1f1f4ef412d7e</td>\n",
       "      <td>0</td>\n",
       "      <td>0</td>\n",
       "      <td>32.900</td>\n",
       "      <td>0</td>\n",
       "      <td>0</td>\n",
       "      <td>0</td>\n",
       "      <td>75</td>\n",
       "      <td>...</td>\n",
       "      <td>0</td>\n",
       "      <td>0.0000</td>\n",
       "      <td>0</td>\n",
       "      <td>0.00</td>\n",
       "      <td>0</td>\n",
       "      <td>0</td>\n",
       "      <td>202.70</td>\n",
       "      <td>3</td>\n",
       "      <td>0</td>\n",
       "      <td>0.1667</td>\n",
       "    </tr>\n",
       "    <tr>\n",
       "      <th>4</th>\n",
       "      <td>315c96c26c9aac</td>\n",
       "      <td>de04010b3458dd</td>\n",
       "      <td>6dc8ff871e21e6</td>\n",
       "      <td>0</td>\n",
       "      <td>0</td>\n",
       "      <td>100.000</td>\n",
       "      <td>0</td>\n",
       "      <td>0</td>\n",
       "      <td>0</td>\n",
       "      <td>45</td>\n",
       "      <td>...</td>\n",
       "      <td>0</td>\n",
       "      <td>0.0000</td>\n",
       "      <td>0</td>\n",
       "      <td>0.00</td>\n",
       "      <td>0</td>\n",
       "      <td>0</td>\n",
       "      <td>49.75</td>\n",
       "      <td>2</td>\n",
       "      <td>0</td>\n",
       "      <td>0.1875</td>\n",
       "    </tr>\n",
       "    <tr>\n",
       "      <th>5</th>\n",
       "      <td>ff79c12f326506</td>\n",
       "      <td>289a6836a88d27</td>\n",
       "      <td>bac52627a12114</td>\n",
       "      <td>0</td>\n",
       "      <td>0</td>\n",
       "      <td>100.000</td>\n",
       "      <td>1</td>\n",
       "      <td>1</td>\n",
       "      <td>0</td>\n",
       "      <td>44</td>\n",
       "      <td>...</td>\n",
       "      <td>0</td>\n",
       "      <td>0.0000</td>\n",
       "      <td>0</td>\n",
       "      <td>0.00</td>\n",
       "      <td>0</td>\n",
       "      <td>0</td>\n",
       "      <td>34.70</td>\n",
       "      <td>1</td>\n",
       "      <td>0</td>\n",
       "      <td>0.0370</td>\n",
       "    </tr>\n",
       "    <tr>\n",
       "      <th>6</th>\n",
       "      <td>95959be0e21ca3</td>\n",
       "      <td>2c485a1ad3d0f1</td>\n",
       "      <td>a8274e903927a2</td>\n",
       "      <td>0</td>\n",
       "      <td>0</td>\n",
       "      <td>0.000</td>\n",
       "      <td>0</td>\n",
       "      <td>0</td>\n",
       "      <td>0</td>\n",
       "      <td>96</td>\n",
       "      <td>...</td>\n",
       "      <td>0</td>\n",
       "      <td>0.0000</td>\n",
       "      <td>0</td>\n",
       "      <td>0.00</td>\n",
       "      <td>0</td>\n",
       "      <td>0</td>\n",
       "      <td>13.50</td>\n",
       "      <td>1</td>\n",
       "      <td>1497</td>\n",
       "      <td>0.0000</td>\n",
       "    </tr>\n",
       "    <tr>\n",
       "      <th>7</th>\n",
       "      <td>311b84c6ff4390</td>\n",
       "      <td>eaba5fcb7fc1ae</td>\n",
       "      <td>292611730ca862</td>\n",
       "      <td>0</td>\n",
       "      <td>0</td>\n",
       "      <td>8.538</td>\n",
       "      <td>0</td>\n",
       "      <td>0</td>\n",
       "      <td>0</td>\n",
       "      <td>48</td>\n",
       "      <td>...</td>\n",
       "      <td>0</td>\n",
       "      <td>2004.0000</td>\n",
       "      <td>0</td>\n",
       "      <td>0.00</td>\n",
       "      <td>0</td>\n",
       "      <td>0</td>\n",
       "      <td>1089.00</td>\n",
       "      <td>6</td>\n",
       "      <td>1500</td>\n",
       "      <td>0.7368</td>\n",
       "    </tr>\n",
       "    <tr>\n",
       "      <th>8</th>\n",
       "      <td>1a68204ccf9891</td>\n",
       "      <td>47cfbb04e1b1a2</td>\n",
       "      <td>df014fbee741c6</td>\n",
       "      <td>0</td>\n",
       "      <td>0</td>\n",
       "      <td>51.600</td>\n",
       "      <td>0</td>\n",
       "      <td>0</td>\n",
       "      <td>0</td>\n",
       "      <td>64</td>\n",
       "      <td>...</td>\n",
       "      <td>0</td>\n",
       "      <td>0.0000</td>\n",
       "      <td>0</td>\n",
       "      <td>0.00</td>\n",
       "      <td>0</td>\n",
       "      <td>0</td>\n",
       "      <td>799.90</td>\n",
       "      <td>4</td>\n",
       "      <td>0</td>\n",
       "      <td>0.3704</td>\n",
       "    </tr>\n",
       "    <tr>\n",
       "      <th>9</th>\n",
       "      <td>e5bb5a43587253</td>\n",
       "      <td>759bb6f7514fd2</td>\n",
       "      <td>3d3031c795305b</td>\n",
       "      <td>0</td>\n",
       "      <td>0</td>\n",
       "      <td>37.270</td>\n",
       "      <td>0</td>\n",
       "      <td>0</td>\n",
       "      <td>0</td>\n",
       "      <td>74</td>\n",
       "      <td>...</td>\n",
       "      <td>0</td>\n",
       "      <td>0.0000</td>\n",
       "      <td>0</td>\n",
       "      <td>0.00</td>\n",
       "      <td>0</td>\n",
       "      <td>0</td>\n",
       "      <td>65.67</td>\n",
       "      <td>1</td>\n",
       "      <td>0</td>\n",
       "      <td>0.2143</td>\n",
       "    </tr>\n",
       "  </tbody>\n",
       "</table>\n",
       "<p>10 rows × 29 columns</p>\n",
       "</div>"
      ],
      "text/plain": [
       "               Id         groupId         matchId  assists  boosts  \\\n",
       "0  7f96b2f878858a  4d4b580de459be  a10357fd1a4a91        0       0   \n",
       "1  eef90569b9d03c  684d5656442f9e  aeb375fc57110c        0       0   \n",
       "2  1eaf90ac73de72  6a4a42c3245a74  110163d8bb94ae        1       0   \n",
       "3  4616d365dd2853  a930a9c79cd721  f1f1f4ef412d7e        0       0   \n",
       "4  315c96c26c9aac  de04010b3458dd  6dc8ff871e21e6        0       0   \n",
       "5  ff79c12f326506  289a6836a88d27  bac52627a12114        0       0   \n",
       "6  95959be0e21ca3  2c485a1ad3d0f1  a8274e903927a2        0       0   \n",
       "7  311b84c6ff4390  eaba5fcb7fc1ae  292611730ca862        0       0   \n",
       "8  1a68204ccf9891  47cfbb04e1b1a2  df014fbee741c6        0       0   \n",
       "9  e5bb5a43587253  759bb6f7514fd2  3d3031c795305b        0       0   \n",
       "\n",
       "   damageDealt  DBNOs  headshotKills  heals  killPlace  ...  revives  \\\n",
       "0        0.000      0              0      0         60  ...        0   \n",
       "1       91.470      0              0      0         57  ...        0   \n",
       "2       68.000      0              0      0         47  ...        0   \n",
       "3       32.900      0              0      0         75  ...        0   \n",
       "4      100.000      0              0      0         45  ...        0   \n",
       "5      100.000      1              1      0         44  ...        0   \n",
       "6        0.000      0              0      0         96  ...        0   \n",
       "7        8.538      0              0      0         48  ...        0   \n",
       "8       51.600      0              0      0         64  ...        0   \n",
       "9       37.270      0              0      0         74  ...        0   \n",
       "\n",
       "   rideDistance  roadKills  swimDistance  teamKills vehicleDestroys  \\\n",
       "0        0.0000          0          0.00          0               0   \n",
       "1        0.0045          0         11.04          0               0   \n",
       "2        0.0000          0          0.00          0               0   \n",
       "3        0.0000          0          0.00          0               0   \n",
       "4        0.0000          0          0.00          0               0   \n",
       "5        0.0000          0          0.00          0               0   \n",
       "6        0.0000          0          0.00          0               0   \n",
       "7     2004.0000          0          0.00          0               0   \n",
       "8        0.0000          0          0.00          0               0   \n",
       "9        0.0000          0          0.00          0               0   \n",
       "\n",
       "   walkDistance  weaponsAcquired  winPoints  winPlacePerc  \n",
       "0        244.80                1       1466        0.4444  \n",
       "1       1434.00                5          0        0.6400  \n",
       "2        161.80                2          0        0.7755  \n",
       "3        202.70                3          0        0.1667  \n",
       "4         49.75                2          0        0.1875  \n",
       "5         34.70                1          0        0.0370  \n",
       "6         13.50                1       1497        0.0000  \n",
       "7       1089.00                6       1500        0.7368  \n",
       "8        799.90                4          0        0.3704  \n",
       "9         65.67                1          0        0.2143  \n",
       "\n",
       "[10 rows x 29 columns]"
      ]
     },
     "execution_count": 3,
     "metadata": {},
     "output_type": "execute_result"
    }
   ],
   "source": [
    "df.head(10)"
   ]
  },
  {
   "cell_type": "code",
   "execution_count": 4,
   "id": "e04667ff",
   "metadata": {},
   "outputs": [
    {
     "data": {
      "text/plain": [
       "Index(['Id', 'groupId', 'matchId', 'assists', 'boosts', 'damageDealt', 'DBNOs',\n",
       "       'headshotKills', 'heals', 'killPlace', 'killPoints', 'kills',\n",
       "       'killStreaks', 'longestKill', 'matchDuration', 'matchType', 'maxPlace',\n",
       "       'numGroups', 'rankPoints', 'revives', 'rideDistance', 'roadKills',\n",
       "       'swimDistance', 'teamKills', 'vehicleDestroys', 'walkDistance',\n",
       "       'weaponsAcquired', 'winPoints', 'winPlacePerc'],\n",
       "      dtype='object')"
      ]
     },
     "execution_count": 4,
     "metadata": {},
     "output_type": "execute_result"
    }
   ],
   "source": [
    "df.columns"
   ]
  },
  {
   "cell_type": "code",
   "execution_count": 5,
   "id": "ee431748",
   "metadata": {},
   "outputs": [
    {
     "data": {
      "text/plain": [
       "2026745"
      ]
     },
     "execution_count": 5,
     "metadata": {},
     "output_type": "execute_result"
    }
   ],
   "source": [
    "df.groupId.nunique()"
   ]
  },
  {
   "cell_type": "markdown",
   "id": "4bc9e2db",
   "metadata": {},
   "source": [
    "# 전처리 시작"
   ]
  },
  {
   "cell_type": "markdown",
   "id": "819fd811",
   "metadata": {},
   "source": [
    "### 결측치 제거"
   ]
  },
  {
   "cell_type": "code",
   "execution_count": 6,
   "id": "9c93d72b",
   "metadata": {},
   "outputs": [],
   "source": [
    "df = df.dropna()"
   ]
  },
  {
   "cell_type": "markdown",
   "id": "4b1da353",
   "metadata": {},
   "source": [
    "### 필요한 columns 추출"
   ]
  },
  {
   "cell_type": "code",
   "execution_count": 7,
   "id": "017bc90d",
   "metadata": {},
   "outputs": [],
   "source": [
    "df_train = df[['assists', 'boosts', 'damageDealt', 'DBNOs',\n",
    "       'headshotKills', 'heals', 'kills',\n",
    "       'killStreaks', 'longestKill', 'matchType',\n",
    "       'revives', 'rideDistance', 'roadKills',\n",
    "       'swimDistance', 'vehicleDestroys', 'walkDistance',\n",
    "       'weaponsAcquired', 'winPlacePerc']]\n"
   ]
  },
  {
   "cell_type": "code",
   "execution_count": 8,
   "id": "8783a535",
   "metadata": {},
   "outputs": [
    {
     "data": {
      "text/html": [
       "<div>\n",
       "<style scoped>\n",
       "    .dataframe tbody tr th:only-of-type {\n",
       "        vertical-align: middle;\n",
       "    }\n",
       "\n",
       "    .dataframe tbody tr th {\n",
       "        vertical-align: top;\n",
       "    }\n",
       "\n",
       "    .dataframe thead th {\n",
       "        text-align: right;\n",
       "    }\n",
       "</style>\n",
       "<table border=\"1\" class=\"dataframe\">\n",
       "  <thead>\n",
       "    <tr style=\"text-align: right;\">\n",
       "      <th></th>\n",
       "      <th>assists</th>\n",
       "      <th>boosts</th>\n",
       "      <th>damageDealt</th>\n",
       "      <th>DBNOs</th>\n",
       "      <th>headshotKills</th>\n",
       "      <th>heals</th>\n",
       "      <th>kills</th>\n",
       "      <th>killStreaks</th>\n",
       "      <th>longestKill</th>\n",
       "      <th>matchType</th>\n",
       "      <th>revives</th>\n",
       "      <th>rideDistance</th>\n",
       "      <th>roadKills</th>\n",
       "      <th>swimDistance</th>\n",
       "      <th>vehicleDestroys</th>\n",
       "      <th>walkDistance</th>\n",
       "      <th>weaponsAcquired</th>\n",
       "      <th>winPlacePerc</th>\n",
       "    </tr>\n",
       "  </thead>\n",
       "  <tbody>\n",
       "    <tr>\n",
       "      <th>0</th>\n",
       "      <td>0</td>\n",
       "      <td>0</td>\n",
       "      <td>0.00</td>\n",
       "      <td>0</td>\n",
       "      <td>0</td>\n",
       "      <td>0</td>\n",
       "      <td>0</td>\n",
       "      <td>0</td>\n",
       "      <td>0.00</td>\n",
       "      <td>squad-fpp</td>\n",
       "      <td>0</td>\n",
       "      <td>0.0000</td>\n",
       "      <td>0</td>\n",
       "      <td>0.000</td>\n",
       "      <td>0</td>\n",
       "      <td>244.80</td>\n",
       "      <td>1</td>\n",
       "      <td>0.4444</td>\n",
       "    </tr>\n",
       "    <tr>\n",
       "      <th>1</th>\n",
       "      <td>0</td>\n",
       "      <td>0</td>\n",
       "      <td>91.47</td>\n",
       "      <td>0</td>\n",
       "      <td>0</td>\n",
       "      <td>0</td>\n",
       "      <td>0</td>\n",
       "      <td>0</td>\n",
       "      <td>0.00</td>\n",
       "      <td>squad-fpp</td>\n",
       "      <td>0</td>\n",
       "      <td>0.0045</td>\n",
       "      <td>0</td>\n",
       "      <td>11.040</td>\n",
       "      <td>0</td>\n",
       "      <td>1434.00</td>\n",
       "      <td>5</td>\n",
       "      <td>0.6400</td>\n",
       "    </tr>\n",
       "    <tr>\n",
       "      <th>2</th>\n",
       "      <td>1</td>\n",
       "      <td>0</td>\n",
       "      <td>68.00</td>\n",
       "      <td>0</td>\n",
       "      <td>0</td>\n",
       "      <td>0</td>\n",
       "      <td>0</td>\n",
       "      <td>0</td>\n",
       "      <td>0.00</td>\n",
       "      <td>duo</td>\n",
       "      <td>0</td>\n",
       "      <td>0.0000</td>\n",
       "      <td>0</td>\n",
       "      <td>0.000</td>\n",
       "      <td>0</td>\n",
       "      <td>161.80</td>\n",
       "      <td>2</td>\n",
       "      <td>0.7755</td>\n",
       "    </tr>\n",
       "    <tr>\n",
       "      <th>3</th>\n",
       "      <td>0</td>\n",
       "      <td>0</td>\n",
       "      <td>32.90</td>\n",
       "      <td>0</td>\n",
       "      <td>0</td>\n",
       "      <td>0</td>\n",
       "      <td>0</td>\n",
       "      <td>0</td>\n",
       "      <td>0.00</td>\n",
       "      <td>squad-fpp</td>\n",
       "      <td>0</td>\n",
       "      <td>0.0000</td>\n",
       "      <td>0</td>\n",
       "      <td>0.000</td>\n",
       "      <td>0</td>\n",
       "      <td>202.70</td>\n",
       "      <td>3</td>\n",
       "      <td>0.1667</td>\n",
       "    </tr>\n",
       "    <tr>\n",
       "      <th>4</th>\n",
       "      <td>0</td>\n",
       "      <td>0</td>\n",
       "      <td>100.00</td>\n",
       "      <td>0</td>\n",
       "      <td>0</td>\n",
       "      <td>0</td>\n",
       "      <td>1</td>\n",
       "      <td>1</td>\n",
       "      <td>58.53</td>\n",
       "      <td>solo-fpp</td>\n",
       "      <td>0</td>\n",
       "      <td>0.0000</td>\n",
       "      <td>0</td>\n",
       "      <td>0.000</td>\n",
       "      <td>0</td>\n",
       "      <td>49.75</td>\n",
       "      <td>2</td>\n",
       "      <td>0.1875</td>\n",
       "    </tr>\n",
       "    <tr>\n",
       "      <th>...</th>\n",
       "      <td>...</td>\n",
       "      <td>...</td>\n",
       "      <td>...</td>\n",
       "      <td>...</td>\n",
       "      <td>...</td>\n",
       "      <td>...</td>\n",
       "      <td>...</td>\n",
       "      <td>...</td>\n",
       "      <td>...</td>\n",
       "      <td>...</td>\n",
       "      <td>...</td>\n",
       "      <td>...</td>\n",
       "      <td>...</td>\n",
       "      <td>...</td>\n",
       "      <td>...</td>\n",
       "      <td>...</td>\n",
       "      <td>...</td>\n",
       "      <td>...</td>\n",
       "    </tr>\n",
       "    <tr>\n",
       "      <th>4446961</th>\n",
       "      <td>0</td>\n",
       "      <td>0</td>\n",
       "      <td>0.00</td>\n",
       "      <td>0</td>\n",
       "      <td>0</td>\n",
       "      <td>0</td>\n",
       "      <td>0</td>\n",
       "      <td>0</td>\n",
       "      <td>0.00</td>\n",
       "      <td>squad-fpp</td>\n",
       "      <td>0</td>\n",
       "      <td>1292.0000</td>\n",
       "      <td>0</td>\n",
       "      <td>0.000</td>\n",
       "      <td>0</td>\n",
       "      <td>1019.00</td>\n",
       "      <td>3</td>\n",
       "      <td>0.1786</td>\n",
       "    </tr>\n",
       "    <tr>\n",
       "      <th>4446962</th>\n",
       "      <td>0</td>\n",
       "      <td>1</td>\n",
       "      <td>44.15</td>\n",
       "      <td>0</td>\n",
       "      <td>0</td>\n",
       "      <td>0</td>\n",
       "      <td>0</td>\n",
       "      <td>0</td>\n",
       "      <td>0.00</td>\n",
       "      <td>solo</td>\n",
       "      <td>0</td>\n",
       "      <td>0.0000</td>\n",
       "      <td>0</td>\n",
       "      <td>0.000</td>\n",
       "      <td>0</td>\n",
       "      <td>81.70</td>\n",
       "      <td>6</td>\n",
       "      <td>0.2935</td>\n",
       "    </tr>\n",
       "    <tr>\n",
       "      <th>4446963</th>\n",
       "      <td>0</td>\n",
       "      <td>0</td>\n",
       "      <td>59.06</td>\n",
       "      <td>0</td>\n",
       "      <td>0</td>\n",
       "      <td>0</td>\n",
       "      <td>0</td>\n",
       "      <td>0</td>\n",
       "      <td>0.00</td>\n",
       "      <td>squad-fpp</td>\n",
       "      <td>0</td>\n",
       "      <td>0.0000</td>\n",
       "      <td>0</td>\n",
       "      <td>2.184</td>\n",
       "      <td>0</td>\n",
       "      <td>788.70</td>\n",
       "      <td>4</td>\n",
       "      <td>0.4815</td>\n",
       "    </tr>\n",
       "    <tr>\n",
       "      <th>4446964</th>\n",
       "      <td>0</td>\n",
       "      <td>4</td>\n",
       "      <td>180.40</td>\n",
       "      <td>1</td>\n",
       "      <td>1</td>\n",
       "      <td>2</td>\n",
       "      <td>2</td>\n",
       "      <td>1</td>\n",
       "      <td>98.50</td>\n",
       "      <td>squad-fpp</td>\n",
       "      <td>2</td>\n",
       "      <td>0.0000</td>\n",
       "      <td>0</td>\n",
       "      <td>0.000</td>\n",
       "      <td>0</td>\n",
       "      <td>2748.00</td>\n",
       "      <td>8</td>\n",
       "      <td>0.8000</td>\n",
       "    </tr>\n",
       "    <tr>\n",
       "      <th>4446965</th>\n",
       "      <td>0</td>\n",
       "      <td>2</td>\n",
       "      <td>268.00</td>\n",
       "      <td>0</td>\n",
       "      <td>0</td>\n",
       "      <td>1</td>\n",
       "      <td>2</td>\n",
       "      <td>1</td>\n",
       "      <td>78.25</td>\n",
       "      <td>solo-fpp</td>\n",
       "      <td>0</td>\n",
       "      <td>1369.0000</td>\n",
       "      <td>0</td>\n",
       "      <td>0.000</td>\n",
       "      <td>0</td>\n",
       "      <td>1244.00</td>\n",
       "      <td>5</td>\n",
       "      <td>0.5464</td>\n",
       "    </tr>\n",
       "  </tbody>\n",
       "</table>\n",
       "<p>4446965 rows × 18 columns</p>\n",
       "</div>"
      ],
      "text/plain": [
       "         assists  boosts  damageDealt  DBNOs  headshotKills  heals  kills  \\\n",
       "0              0       0         0.00      0              0      0      0   \n",
       "1              0       0        91.47      0              0      0      0   \n",
       "2              1       0        68.00      0              0      0      0   \n",
       "3              0       0        32.90      0              0      0      0   \n",
       "4              0       0       100.00      0              0      0      1   \n",
       "...          ...     ...          ...    ...            ...    ...    ...   \n",
       "4446961        0       0         0.00      0              0      0      0   \n",
       "4446962        0       1        44.15      0              0      0      0   \n",
       "4446963        0       0        59.06      0              0      0      0   \n",
       "4446964        0       4       180.40      1              1      2      2   \n",
       "4446965        0       2       268.00      0              0      1      2   \n",
       "\n",
       "         killStreaks  longestKill  matchType  revives  rideDistance  \\\n",
       "0                  0         0.00  squad-fpp        0        0.0000   \n",
       "1                  0         0.00  squad-fpp        0        0.0045   \n",
       "2                  0         0.00        duo        0        0.0000   \n",
       "3                  0         0.00  squad-fpp        0        0.0000   \n",
       "4                  1        58.53   solo-fpp        0        0.0000   \n",
       "...              ...          ...        ...      ...           ...   \n",
       "4446961            0         0.00  squad-fpp        0     1292.0000   \n",
       "4446962            0         0.00       solo        0        0.0000   \n",
       "4446963            0         0.00  squad-fpp        0        0.0000   \n",
       "4446964            1        98.50  squad-fpp        2        0.0000   \n",
       "4446965            1        78.25   solo-fpp        0     1369.0000   \n",
       "\n",
       "         roadKills  swimDistance  vehicleDestroys  walkDistance  \\\n",
       "0                0         0.000                0        244.80   \n",
       "1                0        11.040                0       1434.00   \n",
       "2                0         0.000                0        161.80   \n",
       "3                0         0.000                0        202.70   \n",
       "4                0         0.000                0         49.75   \n",
       "...            ...           ...              ...           ...   \n",
       "4446961          0         0.000                0       1019.00   \n",
       "4446962          0         0.000                0         81.70   \n",
       "4446963          0         2.184                0        788.70   \n",
       "4446964          0         0.000                0       2748.00   \n",
       "4446965          0         0.000                0       1244.00   \n",
       "\n",
       "         weaponsAcquired  winPlacePerc  \n",
       "0                      1        0.4444  \n",
       "1                      5        0.6400  \n",
       "2                      2        0.7755  \n",
       "3                      3        0.1667  \n",
       "4                      2        0.1875  \n",
       "...                  ...           ...  \n",
       "4446961                3        0.1786  \n",
       "4446962                6        0.2935  \n",
       "4446963                4        0.4815  \n",
       "4446964                8        0.8000  \n",
       "4446965                5        0.5464  \n",
       "\n",
       "[4446965 rows x 18 columns]"
      ]
     },
     "execution_count": 8,
     "metadata": {},
     "output_type": "execute_result"
    }
   ],
   "source": [
    "df_train"
   ]
  },
  {
   "cell_type": "markdown",
   "id": "681c4c29",
   "metadata": {},
   "source": [
    "### solo 1로 통합"
   ]
  },
  {
   "cell_type": "code",
   "execution_count": 9,
   "id": "4fff5f73",
   "metadata": {},
   "outputs": [],
   "source": [
    "df_train.loc[df_train['matchType'] == 'solo-fpp', 'matchType'] = 1\n",
    "df_train.loc[df_train['matchType'] == 'solo', 'matchType'] = 1"
   ]
  },
  {
   "cell_type": "markdown",
   "id": "fba32d51",
   "metadata": {},
   "source": [
    "### duo 2로 통합"
   ]
  },
  {
   "cell_type": "code",
   "execution_count": 10,
   "id": "cbd80aee",
   "metadata": {},
   "outputs": [],
   "source": [
    "df_train.loc[df_train['matchType'] == 'duo-fpp', 'matchType'] = 2\n",
    "df_train.loc[df_train['matchType'] == 'duo', 'matchType'] = 2"
   ]
  },
  {
   "cell_type": "markdown",
   "id": "e44c776a",
   "metadata": {},
   "source": [
    "### squad 3으로 통합"
   ]
  },
  {
   "cell_type": "code",
   "execution_count": 11,
   "id": "76fcc9bd",
   "metadata": {},
   "outputs": [],
   "source": [
    "df_train.loc[df_train['matchType'] == 'squad-fpp', 'matchType'] = 3\n",
    "df_train.loc[df_train['matchType'] == 'squad', 'matchType'] = 3"
   ]
  },
  {
   "cell_type": "markdown",
   "id": "94fa70a9",
   "metadata": {},
   "source": [
    "### event match 4로 통합"
   ]
  },
  {
   "cell_type": "code",
   "execution_count": 12,
   "id": "610f9381",
   "metadata": {},
   "outputs": [],
   "source": [
    "df_train.loc[df_train['matchType'] == 'normal-squad-fpp', 'matchType']= 4\n",
    "df_train.loc[df_train['matchType'] == 'crashfpp', 'matchType']= 4\n",
    "df_train.loc[df_train['matchType'] == 'flaretpp', 'matchType']= 4\n",
    "df_train.loc[df_train['matchType'] == 'normal-solo-fpp', 'matchType']= 4\n",
    "df_train.loc[df_train['matchType'] == 'flarefpp', 'matchType']= 4\n",
    "df_train.loc[df_train['matchType'] == 'normal-duo-fpp', 'matchType']= 4\n",
    "df_train.loc[df_train['matchType'] == 'normal-duo', 'matchType']= 4\n",
    "df_train.loc[df_train['matchType'] == 'normal-squad', 'matchType']= 4\n",
    "df_train.loc[df_train['matchType'] == 'crashtpp', 'matchType']= 4\n",
    "df_train.loc[df_train['matchType'] == 'normal-solo', 'matchType']= 4"
   ]
  },
  {
   "cell_type": "code",
   "execution_count": 13,
   "id": "813e93e1",
   "metadata": {},
   "outputs": [
    {
     "data": {
      "text/plain": [
       "array([3, 2, 1, 4], dtype=object)"
      ]
     },
     "execution_count": 13,
     "metadata": {},
     "output_type": "execute_result"
    }
   ],
   "source": [
    "df_train.matchType.unique()"
   ]
  },
  {
   "cell_type": "markdown",
   "id": "3a1f0e1a",
   "metadata": {},
   "source": [
    "### matchType을 int로 변환"
   ]
  },
  {
   "cell_type": "code",
   "execution_count": 14,
   "id": "d6d85598",
   "metadata": {},
   "outputs": [
    {
     "name": "stderr",
     "output_type": "stream",
     "text": [
      "/var/folders/4k/8l6_wyfs3g19brd7yqm854c80000gn/T/ipykernel_3686/3133010291.py:1: SettingWithCopyWarning: \n",
      "A value is trying to be set on a copy of a slice from a DataFrame.\n",
      "Try using .loc[row_indexer,col_indexer] = value instead\n",
      "\n",
      "See the caveats in the documentation: https://pandas.pydata.org/pandas-docs/stable/user_guide/indexing.html#returning-a-view-versus-a-copy\n",
      "  df_train['matchType'] = df_train['matchType'].astype(int)\n"
     ]
    }
   ],
   "source": [
    "df_train['matchType'] = df_train['matchType'].astype(int)"
   ]
  },
  {
   "cell_type": "markdown",
   "id": "3c885a2e",
   "metadata": {},
   "source": [
    "### ridedistance가 0이면서 roadkill이 있는 경우 제거"
   ]
  },
  {
   "cell_type": "code",
   "execution_count": 15,
   "id": "e403ef2c",
   "metadata": {},
   "outputs": [
    {
     "data": {
      "text/html": [
       "<div>\n",
       "<style scoped>\n",
       "    .dataframe tbody tr th:only-of-type {\n",
       "        vertical-align: middle;\n",
       "    }\n",
       "\n",
       "    .dataframe tbody tr th {\n",
       "        vertical-align: top;\n",
       "    }\n",
       "\n",
       "    .dataframe thead th {\n",
       "        text-align: right;\n",
       "    }\n",
       "</style>\n",
       "<table border=\"1\" class=\"dataframe\">\n",
       "  <thead>\n",
       "    <tr style=\"text-align: right;\">\n",
       "      <th></th>\n",
       "      <th>assists</th>\n",
       "      <th>boosts</th>\n",
       "      <th>damageDealt</th>\n",
       "      <th>DBNOs</th>\n",
       "      <th>headshotKills</th>\n",
       "      <th>heals</th>\n",
       "      <th>kills</th>\n",
       "      <th>killStreaks</th>\n",
       "      <th>longestKill</th>\n",
       "      <th>matchType</th>\n",
       "      <th>revives</th>\n",
       "      <th>rideDistance</th>\n",
       "      <th>roadKills</th>\n",
       "      <th>swimDistance</th>\n",
       "      <th>vehicleDestroys</th>\n",
       "      <th>walkDistance</th>\n",
       "      <th>weaponsAcquired</th>\n",
       "      <th>winPlacePerc</th>\n",
       "    </tr>\n",
       "  </thead>\n",
       "  <tbody>\n",
       "    <tr>\n",
       "      <th>820</th>\n",
       "      <td>1</td>\n",
       "      <td>1</td>\n",
       "      <td>334.80</td>\n",
       "      <td>4</td>\n",
       "      <td>0</td>\n",
       "      <td>1</td>\n",
       "      <td>2</td>\n",
       "      <td>1</td>\n",
       "      <td>50.9800</td>\n",
       "      <td>3</td>\n",
       "      <td>0</td>\n",
       "      <td>0.0</td>\n",
       "      <td>1</td>\n",
       "      <td>0.0</td>\n",
       "      <td>0</td>\n",
       "      <td>838.00</td>\n",
       "      <td>6</td>\n",
       "      <td>0.3704</td>\n",
       "    </tr>\n",
       "    <tr>\n",
       "      <th>40362</th>\n",
       "      <td>0</td>\n",
       "      <td>1</td>\n",
       "      <td>272.40</td>\n",
       "      <td>1</td>\n",
       "      <td>1</td>\n",
       "      <td>2</td>\n",
       "      <td>2</td>\n",
       "      <td>1</td>\n",
       "      <td>115.6000</td>\n",
       "      <td>3</td>\n",
       "      <td>0</td>\n",
       "      <td>0.0</td>\n",
       "      <td>1</td>\n",
       "      <td>127.7</td>\n",
       "      <td>0</td>\n",
       "      <td>2443.00</td>\n",
       "      <td>4</td>\n",
       "      <td>0.5357</td>\n",
       "    </tr>\n",
       "    <tr>\n",
       "      <th>46376</th>\n",
       "      <td>2</td>\n",
       "      <td>5</td>\n",
       "      <td>298.90</td>\n",
       "      <td>3</td>\n",
       "      <td>0</td>\n",
       "      <td>6</td>\n",
       "      <td>2</td>\n",
       "      <td>1</td>\n",
       "      <td>15.0900</td>\n",
       "      <td>2</td>\n",
       "      <td>1</td>\n",
       "      <td>0.0</td>\n",
       "      <td>1</td>\n",
       "      <td>0.0</td>\n",
       "      <td>0</td>\n",
       "      <td>3054.00</td>\n",
       "      <td>4</td>\n",
       "      <td>0.8980</td>\n",
       "    </tr>\n",
       "    <tr>\n",
       "      <th>50918</th>\n",
       "      <td>0</td>\n",
       "      <td>0</td>\n",
       "      <td>169.30</td>\n",
       "      <td>1</td>\n",
       "      <td>0</td>\n",
       "      <td>0</td>\n",
       "      <td>1</td>\n",
       "      <td>1</td>\n",
       "      <td>14.4200</td>\n",
       "      <td>2</td>\n",
       "      <td>0</td>\n",
       "      <td>0.0</td>\n",
       "      <td>1</td>\n",
       "      <td>0.0</td>\n",
       "      <td>0</td>\n",
       "      <td>148.60</td>\n",
       "      <td>1</td>\n",
       "      <td>0.1333</td>\n",
       "    </tr>\n",
       "    <tr>\n",
       "      <th>55266</th>\n",
       "      <td>0</td>\n",
       "      <td>0</td>\n",
       "      <td>100.00</td>\n",
       "      <td>2</td>\n",
       "      <td>0</td>\n",
       "      <td>0</td>\n",
       "      <td>1</td>\n",
       "      <td>1</td>\n",
       "      <td>64.0600</td>\n",
       "      <td>3</td>\n",
       "      <td>1</td>\n",
       "      <td>0.0</td>\n",
       "      <td>1</td>\n",
       "      <td>0.0</td>\n",
       "      <td>0</td>\n",
       "      <td>696.00</td>\n",
       "      <td>3</td>\n",
       "      <td>0.3704</td>\n",
       "    </tr>\n",
       "    <tr>\n",
       "      <th>...</th>\n",
       "      <td>...</td>\n",
       "      <td>...</td>\n",
       "      <td>...</td>\n",
       "      <td>...</td>\n",
       "      <td>...</td>\n",
       "      <td>...</td>\n",
       "      <td>...</td>\n",
       "      <td>...</td>\n",
       "      <td>...</td>\n",
       "      <td>...</td>\n",
       "      <td>...</td>\n",
       "      <td>...</td>\n",
       "      <td>...</td>\n",
       "      <td>...</td>\n",
       "      <td>...</td>\n",
       "      <td>...</td>\n",
       "      <td>...</td>\n",
       "      <td>...</td>\n",
       "    </tr>\n",
       "    <tr>\n",
       "      <th>4417743</th>\n",
       "      <td>0</td>\n",
       "      <td>3</td>\n",
       "      <td>328.90</td>\n",
       "      <td>1</td>\n",
       "      <td>1</td>\n",
       "      <td>2</td>\n",
       "      <td>4</td>\n",
       "      <td>2</td>\n",
       "      <td>127.0000</td>\n",
       "      <td>2</td>\n",
       "      <td>0</td>\n",
       "      <td>0.0</td>\n",
       "      <td>1</td>\n",
       "      <td>104.6</td>\n",
       "      <td>0</td>\n",
       "      <td>2505.00</td>\n",
       "      <td>4</td>\n",
       "      <td>0.8696</td>\n",
       "    </tr>\n",
       "    <tr>\n",
       "      <th>4418648</th>\n",
       "      <td>0</td>\n",
       "      <td>0</td>\n",
       "      <td>96.43</td>\n",
       "      <td>1</td>\n",
       "      <td>0</td>\n",
       "      <td>0</td>\n",
       "      <td>1</td>\n",
       "      <td>1</td>\n",
       "      <td>7.6800</td>\n",
       "      <td>3</td>\n",
       "      <td>0</td>\n",
       "      <td>0.0</td>\n",
       "      <td>1</td>\n",
       "      <td>0.0</td>\n",
       "      <td>0</td>\n",
       "      <td>1293.00</td>\n",
       "      <td>3</td>\n",
       "      <td>0.3462</td>\n",
       "    </tr>\n",
       "    <tr>\n",
       "      <th>4426830</th>\n",
       "      <td>0</td>\n",
       "      <td>0</td>\n",
       "      <td>100.00</td>\n",
       "      <td>1</td>\n",
       "      <td>0</td>\n",
       "      <td>0</td>\n",
       "      <td>1</td>\n",
       "      <td>1</td>\n",
       "      <td>0.8003</td>\n",
       "      <td>3</td>\n",
       "      <td>0</td>\n",
       "      <td>0.0</td>\n",
       "      <td>1</td>\n",
       "      <td>0.0</td>\n",
       "      <td>0</td>\n",
       "      <td>29.41</td>\n",
       "      <td>1</td>\n",
       "      <td>0.0400</td>\n",
       "    </tr>\n",
       "    <tr>\n",
       "      <th>4444830</th>\n",
       "      <td>0</td>\n",
       "      <td>6</td>\n",
       "      <td>442.90</td>\n",
       "      <td>4</td>\n",
       "      <td>0</td>\n",
       "      <td>6</td>\n",
       "      <td>5</td>\n",
       "      <td>2</td>\n",
       "      <td>59.2300</td>\n",
       "      <td>2</td>\n",
       "      <td>0</td>\n",
       "      <td>0.0</td>\n",
       "      <td>1</td>\n",
       "      <td>0.0</td>\n",
       "      <td>0</td>\n",
       "      <td>2875.00</td>\n",
       "      <td>5</td>\n",
       "      <td>0.8367</td>\n",
       "    </tr>\n",
       "    <tr>\n",
       "      <th>4446736</th>\n",
       "      <td>2</td>\n",
       "      <td>0</td>\n",
       "      <td>470.30</td>\n",
       "      <td>3</td>\n",
       "      <td>0</td>\n",
       "      <td>6</td>\n",
       "      <td>3</td>\n",
       "      <td>1</td>\n",
       "      <td>58.2600</td>\n",
       "      <td>3</td>\n",
       "      <td>1</td>\n",
       "      <td>0.0</td>\n",
       "      <td>1</td>\n",
       "      <td>0.0</td>\n",
       "      <td>0</td>\n",
       "      <td>747.60</td>\n",
       "      <td>5</td>\n",
       "      <td>0.5769</td>\n",
       "    </tr>\n",
       "  </tbody>\n",
       "</table>\n",
       "<p>185 rows × 18 columns</p>\n",
       "</div>"
      ],
      "text/plain": [
       "         assists  boosts  damageDealt  DBNOs  headshotKills  heals  kills  \\\n",
       "820            1       1       334.80      4              0      1      2   \n",
       "40362          0       1       272.40      1              1      2      2   \n",
       "46376          2       5       298.90      3              0      6      2   \n",
       "50918          0       0       169.30      1              0      0      1   \n",
       "55266          0       0       100.00      2              0      0      1   \n",
       "...          ...     ...          ...    ...            ...    ...    ...   \n",
       "4417743        0       3       328.90      1              1      2      4   \n",
       "4418648        0       0        96.43      1              0      0      1   \n",
       "4426830        0       0       100.00      1              0      0      1   \n",
       "4444830        0       6       442.90      4              0      6      5   \n",
       "4446736        2       0       470.30      3              0      6      3   \n",
       "\n",
       "         killStreaks  longestKill  matchType  revives  rideDistance  \\\n",
       "820                1      50.9800          3        0           0.0   \n",
       "40362              1     115.6000          3        0           0.0   \n",
       "46376              1      15.0900          2        1           0.0   \n",
       "50918              1      14.4200          2        0           0.0   \n",
       "55266              1      64.0600          3        1           0.0   \n",
       "...              ...          ...        ...      ...           ...   \n",
       "4417743            2     127.0000          2        0           0.0   \n",
       "4418648            1       7.6800          3        0           0.0   \n",
       "4426830            1       0.8003          3        0           0.0   \n",
       "4444830            2      59.2300          2        0           0.0   \n",
       "4446736            1      58.2600          3        1           0.0   \n",
       "\n",
       "         roadKills  swimDistance  vehicleDestroys  walkDistance  \\\n",
       "820              1           0.0                0        838.00   \n",
       "40362            1         127.7                0       2443.00   \n",
       "46376            1           0.0                0       3054.00   \n",
       "50918            1           0.0                0        148.60   \n",
       "55266            1           0.0                0        696.00   \n",
       "...            ...           ...              ...           ...   \n",
       "4417743          1         104.6                0       2505.00   \n",
       "4418648          1           0.0                0       1293.00   \n",
       "4426830          1           0.0                0         29.41   \n",
       "4444830          1           0.0                0       2875.00   \n",
       "4446736          1           0.0                0        747.60   \n",
       "\n",
       "         weaponsAcquired  winPlacePerc  \n",
       "820                    6        0.3704  \n",
       "40362                  4        0.5357  \n",
       "46376                  4        0.8980  \n",
       "50918                  1        0.1333  \n",
       "55266                  3        0.3704  \n",
       "...                  ...           ...  \n",
       "4417743                4        0.8696  \n",
       "4418648                3        0.3462  \n",
       "4426830                1        0.0400  \n",
       "4444830                5        0.8367  \n",
       "4446736                5        0.5769  \n",
       "\n",
       "[185 rows x 18 columns]"
      ]
     },
     "execution_count": 15,
     "metadata": {},
     "output_type": "execute_result"
    }
   ],
   "source": [
    "df_train[(df_train['roadKills'] != 0) & (df_train['matchType'] != 4) & (df_train['rideDistance'] == 0.0000)]"
   ]
  },
  {
   "cell_type": "code",
   "execution_count": 16,
   "id": "fb6284b5",
   "metadata": {
    "scrolled": true
   },
   "outputs": [
    {
     "data": {
      "text/plain": [
       "Int64Index([    820,   40362,   46376,   50918,   55266,  102175,  113697,\n",
       "             128559,  209489,  211917,\n",
       "            ...\n",
       "            4291737, 4345133, 4355163, 4363909, 4413741, 4417743, 4418648,\n",
       "            4426830, 4444830, 4446736],\n",
       "           dtype='int64', length=185)"
      ]
     },
     "execution_count": 16,
     "metadata": {},
     "output_type": "execute_result"
    }
   ],
   "source": [
    "a = df_train[(df_train['roadKills'] != 0) & (df_train['matchType'] != 4) & (df_train['rideDistance'] == 0.0000)].index\n",
    "a"
   ]
  },
  {
   "cell_type": "code",
   "execution_count": 17,
   "id": "bf16f978",
   "metadata": {
    "scrolled": true
   },
   "outputs": [
    {
     "name": "stderr",
     "output_type": "stream",
     "text": [
      "/var/folders/4k/8l6_wyfs3g19brd7yqm854c80000gn/T/ipykernel_3686/3398910598.py:1: SettingWithCopyWarning: \n",
      "A value is trying to be set on a copy of a slice from a DataFrame\n",
      "\n",
      "See the caveats in the documentation: https://pandas.pydata.org/pandas-docs/stable/user_guide/indexing.html#returning-a-view-versus-a-copy\n",
      "  df_train.drop(a, inplace=True)\n"
     ]
    }
   ],
   "source": [
    "df_train.drop(a, inplace=True)"
   ]
  },
  {
   "cell_type": "code",
   "execution_count": 18,
   "id": "22f94514",
   "metadata": {
    "scrolled": false
   },
   "outputs": [
    {
     "data": {
      "text/plain": [
       "Int64Index([    892,     942,    2448,    2850,    3011,    4747,    4959,\n",
       "               7358,    7618,    8079,\n",
       "            ...\n",
       "            4440499, 4440912, 4441359, 4441825, 4443196, 4444208, 4444586,\n",
       "            4444646, 4445499, 4446126],\n",
       "           dtype='int64', length=4052)"
      ]
     },
     "execution_count": 18,
     "metadata": {},
     "output_type": "execute_result"
    }
   ],
   "source": [
    "b = df_train[(df_train['kills'] != 0) & (df_train['damageDealt'] == 0) & (df_train['matchType'] != 4)].index\n",
    "b"
   ]
  },
  {
   "cell_type": "code",
   "execution_count": 19,
   "id": "cb107201",
   "metadata": {},
   "outputs": [
    {
     "name": "stderr",
     "output_type": "stream",
     "text": [
      "/var/folders/4k/8l6_wyfs3g19brd7yqm854c80000gn/T/ipykernel_3686/2639866218.py:1: SettingWithCopyWarning: \n",
      "A value is trying to be set on a copy of a slice from a DataFrame\n",
      "\n",
      "See the caveats in the documentation: https://pandas.pydata.org/pandas-docs/stable/user_guide/indexing.html#returning-a-view-versus-a-copy\n",
      "  df_train.drop(b, inplace=True)\n"
     ]
    }
   ],
   "source": [
    "df_train.drop(b, inplace=True)"
   ]
  },
  {
   "cell_type": "markdown",
   "id": "ab779d8a",
   "metadata": {},
   "source": [
    "### 3가지 distance를 통합"
   ]
  },
  {
   "cell_type": "code",
   "execution_count": 20,
   "id": "60182f4a",
   "metadata": {},
   "outputs": [
    {
     "name": "stderr",
     "output_type": "stream",
     "text": [
      "/var/folders/4k/8l6_wyfs3g19brd7yqm854c80000gn/T/ipykernel_3686/1432183307.py:1: SettingWithCopyWarning: \n",
      "A value is trying to be set on a copy of a slice from a DataFrame.\n",
      "Try using .loc[row_indexer,col_indexer] = value instead\n",
      "\n",
      "See the caveats in the documentation: https://pandas.pydata.org/pandas-docs/stable/user_guide/indexing.html#returning-a-view-versus-a-copy\n",
      "  df_train['distance'] = df_train['walkDistance'] + df_train['swimDistance'] + df_train['rideDistance']\n"
     ]
    }
   ],
   "source": [
    "df_train['distance'] = df_train['walkDistance'] + df_train['swimDistance'] + df_train['rideDistance']\n"
   ]
  },
  {
   "cell_type": "code",
   "execution_count": 21,
   "id": "22f70f7b",
   "metadata": {
    "scrolled": false
   },
   "outputs": [
    {
     "name": "stderr",
     "output_type": "stream",
     "text": [
      "/var/folders/4k/8l6_wyfs3g19brd7yqm854c80000gn/T/ipykernel_3686/3124548589.py:1: SettingWithCopyWarning: \n",
      "A value is trying to be set on a copy of a slice from a DataFrame\n",
      "\n",
      "See the caveats in the documentation: https://pandas.pydata.org/pandas-docs/stable/user_guide/indexing.html#returning-a-view-versus-a-copy\n",
      "  df_train.drop(['swimDistance', 'walkDistance', 'rideDistance'], axis=1, inplace=True)\n"
     ]
    }
   ],
   "source": [
    "df_train.drop(['swimDistance', 'walkDistance', 'rideDistance'], axis=1, inplace=True)"
   ]
  },
  {
   "cell_type": "markdown",
   "id": "487a7062",
   "metadata": {},
   "source": [
    "### damaegDealt > 5000 제거"
   ]
  },
  {
   "cell_type": "code",
   "execution_count": 105,
   "id": "b7172041",
   "metadata": {
    "scrolled": true
   },
   "outputs": [
    {
     "name": "stderr",
     "output_type": "stream",
     "text": [
      "/var/folders/4k/8l6_wyfs3g19brd7yqm854c80000gn/T/ipykernel_3686/2715634412.py:1: SettingWithCopyWarning: \n",
      "A value is trying to be set on a copy of a slice from a DataFrame\n",
      "\n",
      "See the caveats in the documentation: https://pandas.pydata.org/pandas-docs/stable/user_guide/indexing.html#returning-a-view-versus-a-copy\n",
      "  df_train.drop(df_train[df_train.damageDealt > 5000].index, inplace=True)\n"
     ]
    }
   ],
   "source": [
    "df_train.drop(df_train[df_train.damageDealt > 5000].index, inplace=True)"
   ]
  },
  {
   "cell_type": "markdown",
   "id": "831b149b",
   "metadata": {},
   "source": [
    "# 전처리 끝"
   ]
  },
  {
   "cell_type": "code",
   "execution_count": 110,
   "id": "7d4aa718",
   "metadata": {},
   "outputs": [
    {
     "data": {
      "text/plain": [
       "Int64Index([      0,       1,       2,       3,       4,       5,       6,\n",
       "                  7,       8,       9,\n",
       "            ...\n",
       "            4446956, 4446957, 4446958, 4446959, 4446960, 4446961, 4446962,\n",
       "            4446963, 4446964, 4446965],\n",
       "           dtype='int64', length=4442715)"
      ]
     },
     "execution_count": 110,
     "metadata": {},
     "output_type": "execute_result"
    }
   ],
   "source": [
    "df_train.index"
   ]
  },
  {
   "cell_type": "code",
   "execution_count": 79,
   "id": "a46fc401",
   "metadata": {},
   "outputs": [
    {
     "data": {
      "text/plain": [
       "<AxesSubplot:xlabel='damageDealt', ylabel='winPlacePerc'>"
      ]
     },
     "execution_count": 79,
     "metadata": {},
     "output_type": "execute_result"
    },
    {
     "data": {
      "image/png": "[encoded data removed]",
      "text/plain": [
       "<Figure size 432x288 with 1 Axes>"
      ]
     },
     "metadata": {
      "needs_background": "light"
     },
     "output_type": "display_data"
    }
   ],
   "source": [
    "sns.scatterplot(data = df, x = 'damageDealt', y = 'winPlacePerc')"
   ]
  },
  {
   "cell_type": "code",
   "execution_count": null,
   "id": "d884dc6d",
   "metadata": {},
   "outputs": [],
   "source": []
  },
  {
   "cell_type": "code",
   "execution_count": 22,
   "id": "cd83ad76",
   "metadata": {
    "scrolled": false
   },
   "outputs": [],
   "source": [
    "# df_train[df_train['weaponsAcquired'] >= 1].count()\n",
    "\n",
    "# df_weapon = df_train[(df_train['weaponsAcquired'] > 50) & (df_train['matchType'] != 4)]\n",
    "# df_weapon"
   ]
  },
  {
   "cell_type": "code",
   "execution_count": 23,
   "id": "a283e81e",
   "metadata": {},
   "outputs": [],
   "source": [
    "# weapon = df_weapon['groupId'].tolist()"
   ]
  },
  {
   "cell_type": "code",
   "execution_count": 24,
   "id": "87998090",
   "metadata": {},
   "outputs": [],
   "source": [
    "# sns.scatterplot(data=df_train, x = 'walkDistance', y = 'matchType')"
   ]
  },
  {
   "cell_type": "code",
   "execution_count": 25,
   "id": "37031416",
   "metadata": {},
   "outputs": [],
   "source": [
    "# df_train[df_train['walkDistance'] > 14000].count()"
   ]
  },
  {
   "cell_type": "code",
   "execution_count": 26,
   "id": "94b5d343",
   "metadata": {},
   "outputs": [],
   "source": [
    "# df.groupId.nunique()"
   ]
  },
  {
   "cell_type": "code",
   "execution_count": 27,
   "id": "6988a65d",
   "metadata": {
    "scrolled": true
   },
   "outputs": [],
   "source": [
    "# df_train.head(20)\n",
    "# df_train.groupId.nunique()\n",
    "# df_train.groupId.head(40000)"
   ]
  },
  {
   "cell_type": "code",
   "execution_count": 28,
   "id": "3d8cbcfc",
   "metadata": {},
   "outputs": [],
   "source": [
    "# k = 0\n",
    "# for i in range(len(df_train)):\n",
    "#     df_train.loc[df_train['groupId'] == df_train.iloc[i, 0], 'groupId'] = k\n",
    "#     k = k+1"
   ]
  },
  {
   "cell_type": "code",
   "execution_count": 29,
   "id": "b511e701",
   "metadata": {
    "scrolled": true
   },
   "outputs": [],
   "source": [
    "# df_duo 생성\n",
    "# df_duo = df_train[(df_train['matchType'] == 'duo-fpp')|(df_train['matchType'] == 'duo')]\n",
    "# df_duo"
   ]
  },
  {
   "cell_type": "code",
   "execution_count": 30,
   "id": "b31202b5",
   "metadata": {
    "scrolled": true
   },
   "outputs": [],
   "source": [
    "# df_squad 생성\n",
    "# df_squad = df_train[(df_train['matchType'] == 'squad-fpp')|(df_train['matchType'] == 'squad')]\n",
    "# df_squad\n"
   ]
  },
  {
   "cell_type": "code",
   "execution_count": 31,
   "id": "0ca4796d",
   "metadata": {},
   "outputs": [],
   "source": [
    "# sns.scatterplot(data=df_train, x = 'winPlacePerc', y = 'rideDistance')"
   ]
  },
  {
   "cell_type": "code",
   "execution_count": 32,
   "id": "03904bda",
   "metadata": {},
   "outputs": [],
   "source": [
    "# vif = pd.DataFrame()\n",
    "\n",
    "# vif[\"VIF Factor\"] = [variance_inflation_factor(df1.values, i) for i in range(df1.shape[1])]\n",
    "\n",
    "# vif[\"features\"] = df1.columns\n",
    "\n",
    "# vif"
   ]
  },
  {
   "cell_type": "code",
   "execution_count": 33,
   "id": "97872cba",
   "metadata": {},
   "outputs": [],
   "source": [
    "# sns.lineplot(data=df_solo, y = 'kills', x ='damageDealt')"
   ]
  },
  {
   "cell_type": "code",
   "execution_count": null,
   "id": "443e4e2e",
   "metadata": {},
   "outputs": [],
   "source": []
  },
  {
   "cell_type": "code",
   "execution_count": 34,
   "id": "27fc8df2",
   "metadata": {
    "scrolled": false
   },
   "outputs": [],
   "source": [
    "# plt.figure(figsize = (23,23))\n",
    "# sns.heatmap(df_train.corr(), annot=True, linewidths=1, annot_kws={'size' : 21})"
   ]
  },
  {
   "cell_type": "code",
   "execution_count": 35,
   "id": "80f1b4d5",
   "metadata": {
    "scrolled": true
   },
   "outputs": [],
   "source": [
    "# plt.figure(figsize = (23,23))\n",
    "# sns.heatmap(df_duo.corr(), annot=True, linewidths=1, annot_kws={'size' : 21})"
   ]
  },
  {
   "cell_type": "code",
   "execution_count": 36,
   "id": "5d2f2b4f",
   "metadata": {
    "scrolled": false
   },
   "outputs": [],
   "source": [
    "# plt.figure(figsize = (23,23))\n",
    "# sns.heatmap(df_squad.corr(), annot=True, linewidths=1, annot_kws={'size' : 21})"
   ]
  },
  {
   "cell_type": "code",
   "execution_count": 37,
   "id": "7d0f465b",
   "metadata": {},
   "outputs": [],
   "source": [
    "# df.info()"
   ]
  },
  {
   "cell_type": "code",
   "execution_count": 38,
   "id": "271e8083",
   "metadata": {
    "scrolled": true
   },
   "outputs": [],
   "source": [
    "# df.corr()"
   ]
  },
  {
   "cell_type": "code",
   "execution_count": 39,
   "id": "ae1a286c",
   "metadata": {},
   "outputs": [],
   "source": [
    "# sns.scatterplot(data=df1, y = 'rideDistance', x = 'winPlacePerc', alpha=.3)\n",
    "# plt.show()"
   ]
  },
  {
   "cell_type": "code",
   "execution_count": 40,
   "id": "90bfd2f8",
   "metadata": {},
   "outputs": [],
   "source": [
    "# df_train.head()"
   ]
  },
  {
   "cell_type": "code",
   "execution_count": 41,
   "id": "f2af57fe",
   "metadata": {},
   "outputs": [],
   "source": [
    "# df_train.columns"
   ]
  },
  {
   "cell_type": "code",
   "execution_count": 72,
   "id": "63ef8f69",
   "metadata": {},
   "outputs": [
    {
     "data": {
      "text/html": [
       "<div>\n",
       "<style scoped>\n",
       "    .dataframe tbody tr th:only-of-type {\n",
       "        vertical-align: middle;\n",
       "    }\n",
       "\n",
       "    .dataframe tbody tr th {\n",
       "        vertical-align: top;\n",
       "    }\n",
       "\n",
       "    .dataframe thead th {\n",
       "        text-align: right;\n",
       "    }\n",
       "</style>\n",
       "<table border=\"1\" class=\"dataframe\">\n",
       "  <thead>\n",
       "    <tr style=\"text-align: right;\">\n",
       "      <th></th>\n",
       "      <th>assists</th>\n",
       "      <th>boosts</th>\n",
       "      <th>damageDealt</th>\n",
       "      <th>DBNOs</th>\n",
       "      <th>headshotKills</th>\n",
       "      <th>heals</th>\n",
       "      <th>kills</th>\n",
       "      <th>killStreaks</th>\n",
       "      <th>longestKill</th>\n",
       "      <th>matchType</th>\n",
       "      <th>revives</th>\n",
       "      <th>roadKills</th>\n",
       "      <th>vehicleDestroys</th>\n",
       "      <th>weaponsAcquired</th>\n",
       "      <th>winPlacePerc</th>\n",
       "      <th>distance</th>\n",
       "    </tr>\n",
       "  </thead>\n",
       "  <tbody>\n",
       "    <tr>\n",
       "      <th>count</th>\n",
       "      <td>4.442728e+06</td>\n",
       "      <td>4.442728e+06</td>\n",
       "      <td>4.442728e+06</td>\n",
       "      <td>4.442728e+06</td>\n",
       "      <td>4.442728e+06</td>\n",
       "      <td>4.442728e+06</td>\n",
       "      <td>4.442728e+06</td>\n",
       "      <td>4.442728e+06</td>\n",
       "      <td>4.442728e+06</td>\n",
       "      <td>4.442728e+06</td>\n",
       "      <td>4.442728e+06</td>\n",
       "      <td>4.442728e+06</td>\n",
       "      <td>4.442728e+06</td>\n",
       "      <td>4.442728e+06</td>\n",
       "      <td>4.442728e+06</td>\n",
       "      <td>4.442728e+06</td>\n",
       "    </tr>\n",
       "    <tr>\n",
       "      <th>mean</th>\n",
       "      <td>2.339367e-01</td>\n",
       "      <td>1.107253e+00</td>\n",
       "      <td>1.308302e+02</td>\n",
       "      <td>6.583903e-01</td>\n",
       "      <td>2.268079e-01</td>\n",
       "      <td>1.370547e+00</td>\n",
       "      <td>9.246170e-01</td>\n",
       "      <td>5.434857e-01</td>\n",
       "      <td>2.296934e+01</td>\n",
       "      <td>2.389723e+00</td>\n",
       "      <td>1.646761e-01</td>\n",
       "      <td>3.441579e-03</td>\n",
       "      <td>7.918108e-03</td>\n",
       "      <td>3.660833e+00</td>\n",
       "      <td>4.728823e-01</td>\n",
       "      <td>1.765119e+03</td>\n",
       "    </tr>\n",
       "    <tr>\n",
       "      <th>std</th>\n",
       "      <td>5.887342e-01</td>\n",
       "      <td>1.716074e+00</td>\n",
       "      <td>1.708072e+02</td>\n",
       "      <td>1.146025e+00</td>\n",
       "      <td>6.022912e-01</td>\n",
       "      <td>2.680352e+00</td>\n",
       "      <td>1.559079e+00</td>\n",
       "      <td>7.111179e-01</td>\n",
       "      <td>5.093206e+01</td>\n",
       "      <td>7.597744e-01</td>\n",
       "      <td>4.722097e-01</td>\n",
       "      <td>7.299397e-02</td>\n",
       "      <td>9.260746e-02</td>\n",
       "      <td>2.456725e+00</td>\n",
       "      <td>3.074031e-01</td>\n",
       "      <td>2.183241e+03</td>\n",
       "    </tr>\n",
       "    <tr>\n",
       "      <th>min</th>\n",
       "      <td>0.000000e+00</td>\n",
       "      <td>0.000000e+00</td>\n",
       "      <td>0.000000e+00</td>\n",
       "      <td>0.000000e+00</td>\n",
       "      <td>0.000000e+00</td>\n",
       "      <td>0.000000e+00</td>\n",
       "      <td>0.000000e+00</td>\n",
       "      <td>0.000000e+00</td>\n",
       "      <td>0.000000e+00</td>\n",
       "      <td>1.000000e+00</td>\n",
       "      <td>0.000000e+00</td>\n",
       "      <td>0.000000e+00</td>\n",
       "      <td>0.000000e+00</td>\n",
       "      <td>0.000000e+00</td>\n",
       "      <td>0.000000e+00</td>\n",
       "      <td>0.000000e+00</td>\n",
       "    </tr>\n",
       "    <tr>\n",
       "      <th>25%</th>\n",
       "      <td>0.000000e+00</td>\n",
       "      <td>0.000000e+00</td>\n",
       "      <td>0.000000e+00</td>\n",
       "      <td>0.000000e+00</td>\n",
       "      <td>0.000000e+00</td>\n",
       "      <td>0.000000e+00</td>\n",
       "      <td>0.000000e+00</td>\n",
       "      <td>0.000000e+00</td>\n",
       "      <td>0.000000e+00</td>\n",
       "      <td>2.000000e+00</td>\n",
       "      <td>0.000000e+00</td>\n",
       "      <td>0.000000e+00</td>\n",
       "      <td>0.000000e+00</td>\n",
       "      <td>2.000000e+00</td>\n",
       "      <td>2.000000e-01</td>\n",
       "      <td>1.582000e+02</td>\n",
       "    </tr>\n",
       "    <tr>\n",
       "      <th>50%</th>\n",
       "      <td>0.000000e+00</td>\n",
       "      <td>0.000000e+00</td>\n",
       "      <td>8.444000e+01</td>\n",
       "      <td>0.000000e+00</td>\n",
       "      <td>0.000000e+00</td>\n",
       "      <td>0.000000e+00</td>\n",
       "      <td>0.000000e+00</td>\n",
       "      <td>0.000000e+00</td>\n",
       "      <td>0.000000e+00</td>\n",
       "      <td>3.000000e+00</td>\n",
       "      <td>0.000000e+00</td>\n",
       "      <td>0.000000e+00</td>\n",
       "      <td>0.000000e+00</td>\n",
       "      <td>3.000000e+00</td>\n",
       "      <td>4.583000e-01</td>\n",
       "      <td>7.887000e+02</td>\n",
       "    </tr>\n",
       "    <tr>\n",
       "      <th>75%</th>\n",
       "      <td>0.000000e+00</td>\n",
       "      <td>2.000000e+00</td>\n",
       "      <td>1.861000e+02</td>\n",
       "      <td>1.000000e+00</td>\n",
       "      <td>0.000000e+00</td>\n",
       "      <td>2.000000e+00</td>\n",
       "      <td>1.000000e+00</td>\n",
       "      <td>1.000000e+00</td>\n",
       "      <td>2.128000e+01</td>\n",
       "      <td>3.000000e+00</td>\n",
       "      <td>0.000000e+00</td>\n",
       "      <td>0.000000e+00</td>\n",
       "      <td>0.000000e+00</td>\n",
       "      <td>5.000000e+00</td>\n",
       "      <td>7.407000e-01</td>\n",
       "      <td>2.729000e+03</td>\n",
       "    </tr>\n",
       "    <tr>\n",
       "      <th>max</th>\n",
       "      <td>2.200000e+01</td>\n",
       "      <td>3.300000e+01</td>\n",
       "      <td>6.616000e+03</td>\n",
       "      <td>5.300000e+01</td>\n",
       "      <td>6.400000e+01</td>\n",
       "      <td>8.000000e+01</td>\n",
       "      <td>7.200000e+01</td>\n",
       "      <td>2.000000e+01</td>\n",
       "      <td>1.094000e+03</td>\n",
       "      <td>4.000000e+00</td>\n",
       "      <td>3.900000e+01</td>\n",
       "      <td>1.800000e+01</td>\n",
       "      <td>5.000000e+00</td>\n",
       "      <td>2.360000e+02</td>\n",
       "      <td>1.000000e+00</td>\n",
       "      <td>4.127010e+04</td>\n",
       "    </tr>\n",
       "  </tbody>\n",
       "</table>\n",
       "</div>"
      ],
      "text/plain": [
       "            assists        boosts   damageDealt         DBNOs  headshotKills  \\\n",
       "count  4.442728e+06  4.442728e+06  4.442728e+06  4.442728e+06   4.442728e+06   \n",
       "mean   2.339367e-01  1.107253e+00  1.308302e+02  6.583903e-01   2.268079e-01   \n",
       "std    5.887342e-01  1.716074e+00  1.708072e+02  1.146025e+00   6.022912e-01   \n",
       "min    0.000000e+00  0.000000e+00  0.000000e+00  0.000000e+00   0.000000e+00   \n",
       "25%    0.000000e+00  0.000000e+00  0.000000e+00  0.000000e+00   0.000000e+00   \n",
       "50%    0.000000e+00  0.000000e+00  8.444000e+01  0.000000e+00   0.000000e+00   \n",
       "75%    0.000000e+00  2.000000e+00  1.861000e+02  1.000000e+00   0.000000e+00   \n",
       "max    2.200000e+01  3.300000e+01  6.616000e+03  5.300000e+01   6.400000e+01   \n",
       "\n",
       "              heals         kills   killStreaks   longestKill     matchType  \\\n",
       "count  4.442728e+06  4.442728e+06  4.442728e+06  4.442728e+06  4.442728e+06   \n",
       "mean   1.370547e+00  9.246170e-01  5.434857e-01  2.296934e+01  2.389723e+00   \n",
       "std    2.680352e+00  1.559079e+00  7.111179e-01  5.093206e+01  7.597744e-01   \n",
       "min    0.000000e+00  0.000000e+00  0.000000e+00  0.000000e+00  1.000000e+00   \n",
       "25%    0.000000e+00  0.000000e+00  0.000000e+00  0.000000e+00  2.000000e+00   \n",
       "50%    0.000000e+00  0.000000e+00  0.000000e+00  0.000000e+00  3.000000e+00   \n",
       "75%    2.000000e+00  1.000000e+00  1.000000e+00  2.128000e+01  3.000000e+00   \n",
       "max    8.000000e+01  7.200000e+01  2.000000e+01  1.094000e+03  4.000000e+00   \n",
       "\n",
       "            revives     roadKills  vehicleDestroys  weaponsAcquired  \\\n",
       "count  4.442728e+06  4.442728e+06     4.442728e+06     4.442728e+06   \n",
       "mean   1.646761e-01  3.441579e-03     7.918108e-03     3.660833e+00   \n",
       "std    4.722097e-01  7.299397e-02     9.260746e-02     2.456725e+00   \n",
       "min    0.000000e+00  0.000000e+00     0.000000e+00     0.000000e+00   \n",
       "25%    0.000000e+00  0.000000e+00     0.000000e+00     2.000000e+00   \n",
       "50%    0.000000e+00  0.000000e+00     0.000000e+00     3.000000e+00   \n",
       "75%    0.000000e+00  0.000000e+00     0.000000e+00     5.000000e+00   \n",
       "max    3.900000e+01  1.800000e+01     5.000000e+00     2.360000e+02   \n",
       "\n",
       "       winPlacePerc      distance  \n",
       "count  4.442728e+06  4.442728e+06  \n",
       "mean   4.728823e-01  1.765119e+03  \n",
       "std    3.074031e-01  2.183241e+03  \n",
       "min    0.000000e+00  0.000000e+00  \n",
       "25%    2.000000e-01  1.582000e+02  \n",
       "50%    4.583000e-01  7.887000e+02  \n",
       "75%    7.407000e-01  2.729000e+03  \n",
       "max    1.000000e+00  4.127010e+04  "
      ]
     },
     "execution_count": 72,
     "metadata": {},
     "output_type": "execute_result"
    }
   ],
   "source": [
    "df_train.describe()"
   ]
  },
  {
   "cell_type": "code",
   "execution_count": 61,
   "id": "d9f40e83",
   "metadata": {},
   "outputs": [],
   "source": [
    "from sklearn.preprocessing import StandardScaler\n",
    "from sklearn.preprocessing import MinMaxScaler\n",
    "from sklearn.preprocessing import RobustScaler"
   ]
  },
  {
   "cell_type": "code",
   "execution_count": 49,
   "id": "17511c1b",
   "metadata": {},
   "outputs": [],
   "source": [
    "x_num = df_train[['damageDealt', 'longestKill', 'distance', 'weaponsAcquired']]\n",
    "\n",
    "scaler = StandardScaler()\n",
    "scaler.fit(x_num)\n",
    "x_scaled = scaler.transform(x_num)\n",
    "x_scaled = pd.DataFrame( x_scaled, index=x_num.index, columns=x_num.columns)\n",
    "\n",
    "x_cat = df_train.drop(['damageDealt', 'longestKill', 'distance', 'weaponsAcquired', 'winPlacePerc'], axis=1)\n",
    "# x_cat = pd.get_dummies(x_cat)\n",
    "\n",
    "X = pd.concat([x_scaled, x_cat], axis = 1)\n",
    "y = df_train['winPlacePerc']"
   ]
  },
  {
   "cell_type": "code",
   "execution_count": 112,
   "id": "87ac45e5",
   "metadata": {},
   "outputs": [
    {
     "data": {
      "text/html": [
       "<div>\n",
       "<style scoped>\n",
       "    .dataframe tbody tr th:only-of-type {\n",
       "        vertical-align: middle;\n",
       "    }\n",
       "\n",
       "    .dataframe tbody tr th {\n",
       "        vertical-align: top;\n",
       "    }\n",
       "\n",
       "    .dataframe thead th {\n",
       "        text-align: right;\n",
       "    }\n",
       "</style>\n",
       "<table border=\"1\" class=\"dataframe\">\n",
       "  <thead>\n",
       "    <tr style=\"text-align: right;\">\n",
       "      <th></th>\n",
       "      <th>damageDealt</th>\n",
       "      <th>longestKill</th>\n",
       "      <th>distance</th>\n",
       "      <th>weaponsAcquired</th>\n",
       "    </tr>\n",
       "  </thead>\n",
       "  <tbody>\n",
       "    <tr>\n",
       "      <th>0</th>\n",
       "      <td>-0.765952</td>\n",
       "      <td>-0.450980</td>\n",
       "      <td>-0.696359</td>\n",
       "      <td>-1.083082</td>\n",
       "    </tr>\n",
       "    <tr>\n",
       "      <th>1</th>\n",
       "      <td>-0.230436</td>\n",
       "      <td>-0.450980</td>\n",
       "      <td>-0.146605</td>\n",
       "      <td>0.545103</td>\n",
       "    </tr>\n",
       "    <tr>\n",
       "      <th>2</th>\n",
       "      <td>-0.367843</td>\n",
       "      <td>-0.450980</td>\n",
       "      <td>-0.734376</td>\n",
       "      <td>-0.676036</td>\n",
       "    </tr>\n",
       "    <tr>\n",
       "      <th>3</th>\n",
       "      <td>-0.573338</td>\n",
       "      <td>-0.450980</td>\n",
       "      <td>-0.715642</td>\n",
       "      <td>-0.268990</td>\n",
       "    </tr>\n",
       "    <tr>\n",
       "      <th>4</th>\n",
       "      <td>-0.180497</td>\n",
       "      <td>0.698198</td>\n",
       "      <td>-0.785699</td>\n",
       "      <td>-0.676036</td>\n",
       "    </tr>\n",
       "    <tr>\n",
       "      <th>...</th>\n",
       "      <td>...</td>\n",
       "      <td>...</td>\n",
       "      <td>...</td>\n",
       "      <td>...</td>\n",
       "    </tr>\n",
       "    <tr>\n",
       "      <th>4446961</th>\n",
       "      <td>-0.765952</td>\n",
       "      <td>-0.450980</td>\n",
       "      <td>0.250032</td>\n",
       "      <td>-0.268990</td>\n",
       "    </tr>\n",
       "    <tr>\n",
       "      <th>4446962</th>\n",
       "      <td>-0.507474</td>\n",
       "      <td>-0.450980</td>\n",
       "      <td>-0.771064</td>\n",
       "      <td>0.952149</td>\n",
       "    </tr>\n",
       "    <tr>\n",
       "      <th>4446963</th>\n",
       "      <td>-0.420183</td>\n",
       "      <td>-0.450980</td>\n",
       "      <td>-0.446234</td>\n",
       "      <td>0.138056</td>\n",
       "    </tr>\n",
       "    <tr>\n",
       "      <th>4446964</th>\n",
       "      <td>0.290209</td>\n",
       "      <td>1.482969</td>\n",
       "      <td>0.450194</td>\n",
       "      <td>1.766241</td>\n",
       "    </tr>\n",
       "    <tr>\n",
       "      <th>4446965</th>\n",
       "      <td>0.803068</td>\n",
       "      <td>1.085381</td>\n",
       "      <td>0.388359</td>\n",
       "      <td>0.545103</td>\n",
       "    </tr>\n",
       "  </tbody>\n",
       "</table>\n",
       "<p>4442728 rows × 4 columns</p>\n",
       "</div>"
      ],
      "text/plain": [
       "         damageDealt  longestKill  distance  weaponsAcquired\n",
       "0          -0.765952    -0.450980 -0.696359        -1.083082\n",
       "1          -0.230436    -0.450980 -0.146605         0.545103\n",
       "2          -0.367843    -0.450980 -0.734376        -0.676036\n",
       "3          -0.573338    -0.450980 -0.715642        -0.268990\n",
       "4          -0.180497     0.698198 -0.785699        -0.676036\n",
       "...              ...          ...       ...              ...\n",
       "4446961    -0.765952    -0.450980  0.250032        -0.268990\n",
       "4446962    -0.507474    -0.450980 -0.771064         0.952149\n",
       "4446963    -0.420183    -0.450980 -0.446234         0.138056\n",
       "4446964     0.290209     1.482969  0.450194         1.766241\n",
       "4446965     0.803068     1.085381  0.388359         0.545103\n",
       "\n",
       "[4442728 rows x 4 columns]"
      ]
     },
     "execution_count": 112,
     "metadata": {},
     "output_type": "execute_result"
    }
   ],
   "source": [
    "x_scaled"
   ]
  },
  {
   "cell_type": "code",
   "execution_count": 62,
   "id": "3d22e26b",
   "metadata": {},
   "outputs": [
    {
     "data": {
      "text/plain": [
       "array([[0.00593166],\n",
       "       [0.03501432],\n",
       "       [0.00392051],\n",
       "       ...,\n",
       "       [0.01916361],\n",
       "       [0.06658574],\n",
       "       [0.0633146 ]])"
      ]
     },
     "execution_count": 62,
     "metadata": {},
     "output_type": "execute_result"
    }
   ],
   "source": [
    "dis_mm = df_train[['distance']]\n",
    "scaler = MinMaxScaler()\n",
    "scaler.fit(dis_mm)\n",
    "\n",
    "dis_scaled = scaler.transform(dis_mm)\n",
    "dis_scaled"
   ]
  },
  {
   "cell_type": "code",
   "execution_count": 65,
   "id": "1972aa1b",
   "metadata": {},
   "outputs": [],
   "source": [
    "dis_scaled = pd.DataFrame(dis_scaled, index = dis_mm.index, columns = dis_mm.columns)"
   ]
  },
  {
   "cell_type": "code",
   "execution_count": 68,
   "id": "2e887cc9",
   "metadata": {},
   "outputs": [
    {
     "data": {
      "text/html": [
       "<div>\n",
       "<style scoped>\n",
       "    .dataframe tbody tr th:only-of-type {\n",
       "        vertical-align: middle;\n",
       "    }\n",
       "\n",
       "    .dataframe tbody tr th {\n",
       "        vertical-align: top;\n",
       "    }\n",
       "\n",
       "    .dataframe thead th {\n",
       "        text-align: right;\n",
       "    }\n",
       "</style>\n",
       "<table border=\"1\" class=\"dataframe\">\n",
       "  <thead>\n",
       "    <tr style=\"text-align: right;\">\n",
       "      <th></th>\n",
       "      <th>distance</th>\n",
       "    </tr>\n",
       "  </thead>\n",
       "  <tbody>\n",
       "    <tr>\n",
       "      <th>0</th>\n",
       "      <td>0.005932</td>\n",
       "    </tr>\n",
       "    <tr>\n",
       "      <th>1</th>\n",
       "      <td>0.035014</td>\n",
       "    </tr>\n",
       "    <tr>\n",
       "      <th>2</th>\n",
       "      <td>0.003921</td>\n",
       "    </tr>\n",
       "    <tr>\n",
       "      <th>3</th>\n",
       "      <td>0.004912</td>\n",
       "    </tr>\n",
       "    <tr>\n",
       "      <th>4</th>\n",
       "      <td>0.001205</td>\n",
       "    </tr>\n",
       "    <tr>\n",
       "      <th>...</th>\n",
       "      <td>...</td>\n",
       "    </tr>\n",
       "    <tr>\n",
       "      <th>4446961</th>\n",
       "      <td>0.055997</td>\n",
       "    </tr>\n",
       "    <tr>\n",
       "      <th>4446962</th>\n",
       "      <td>0.001980</td>\n",
       "    </tr>\n",
       "    <tr>\n",
       "      <th>4446963</th>\n",
       "      <td>0.019164</td>\n",
       "    </tr>\n",
       "    <tr>\n",
       "      <th>4446964</th>\n",
       "      <td>0.066586</td>\n",
       "    </tr>\n",
       "    <tr>\n",
       "      <th>4446965</th>\n",
       "      <td>0.063315</td>\n",
       "    </tr>\n",
       "  </tbody>\n",
       "</table>\n",
       "<p>4442728 rows × 1 columns</p>\n",
       "</div>"
      ],
      "text/plain": [
       "         distance\n",
       "0        0.005932\n",
       "1        0.035014\n",
       "2        0.003921\n",
       "3        0.004912\n",
       "4        0.001205\n",
       "...           ...\n",
       "4446961  0.055997\n",
       "4446962  0.001980\n",
       "4446963  0.019164\n",
       "4446964  0.066586\n",
       "4446965  0.063315\n",
       "\n",
       "[4442728 rows x 1 columns]"
      ]
     },
     "execution_count": 68,
     "metadata": {},
     "output_type": "execute_result"
    }
   ],
   "source": [
    "dis_scaled"
   ]
  },
  {
   "cell_type": "code",
   "execution_count": 50,
   "id": "1f99120c",
   "metadata": {},
   "outputs": [],
   "source": [
    "from sklearn.model_selection import train_test_split"
   ]
  },
  {
   "cell_type": "code",
   "execution_count": 51,
   "id": "ac0a88c6",
   "metadata": {},
   "outputs": [],
   "source": [
    "X_train, X_test, y_train, y_test = train_test_split(X, y, test_size=0.3, random_state=1)"
   ]
  },
  {
   "cell_type": "code",
   "execution_count": 52,
   "id": "74fe7b45",
   "metadata": {},
   "outputs": [],
   "source": [
    "from lightgbm.sklearn import LGBMRegressor"
   ]
  },
  {
   "cell_type": "code",
   "execution_count": 53,
   "id": "75244fab",
   "metadata": {},
   "outputs": [
    {
     "data": {
      "text/plain": [
       "LGBMRegressor()"
      ]
     },
     "execution_count": 53,
     "metadata": {},
     "output_type": "execute_result"
    }
   ],
   "source": [
    "model_reg = LGBMRegressor()\n",
    "model_reg.fit(X_train, y_train)"
   ]
  },
  {
   "cell_type": "code",
   "execution_count": 54,
   "id": "8d6bbc92",
   "metadata": {},
   "outputs": [],
   "source": [
    "from sklearn.metrics import mean_absolute_error, mean_squared_error\n",
    "from math import sqrt"
   ]
  },
  {
   "cell_type": "code",
   "execution_count": 55,
   "id": "c2da452e",
   "metadata": {},
   "outputs": [
    {
     "name": "stdout",
     "output_type": "stream",
     "text": [
      "0.10616334087287456\n",
      "0.14379355544133984\n"
     ]
    }
   ],
   "source": [
    "pred = model_reg.predict(X_test)\n",
    "print(mean_absolute_error(y_test, pred))\n",
    "print(sqrt(mean_squared_error(y_test, pred)))"
   ]
  },
  {
   "cell_type": "code",
   "execution_count": null,
   "id": "3ebd38fe",
   "metadata": {},
   "outputs": [],
   "source": []
  }
 ],
 "metadata": {
  "kernelspec": {
   "display_name": "Python 3 (ipykernel)",
   "language": "python",
   "name": "python3"
  },
  "language_info": {
   "codemirror_mode": {
    "name": "ipython",
    "version": 3
   },
   "file_extension": ".py",
   "mimetype": "text/x-python",
   "name": "python",
   "nbconvert_exporter": "python",
   "pygments_lexer": "ipython3",
   "version": "3.8.5"
  }
 },
 "nbformat": 4,
 "nbformat_minor": 5
}
